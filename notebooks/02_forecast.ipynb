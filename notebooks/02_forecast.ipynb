{
 "cells": [
  {
   "cell_type": "code",
   "execution_count": 1,
   "id": "dcb10772",
   "metadata": {},
   "outputs": [
    {
     "ename": "ModuleNotFoundError",
     "evalue": "No module named 'prophet'",
     "output_type": "error",
     "traceback": [
      "\u001b[1;31m---------------------------------------------------------------------------\u001b[0m",
      "\u001b[1;31mModuleNotFoundError\u001b[0m                       Traceback (most recent call last)",
      "Cell \u001b[1;32mIn[1], line 5\u001b[0m\n\u001b[0;32m      3\u001b[0m \u001b[38;5;28;01mimport\u001b[39;00m \u001b[38;5;21;01mpandas\u001b[39;00m \u001b[38;5;28;01mas\u001b[39;00m \u001b[38;5;21;01mpd\u001b[39;00m\n\u001b[0;32m      4\u001b[0m \u001b[38;5;28;01mimport\u001b[39;00m \u001b[38;5;21;01mnumpy\u001b[39;00m \u001b[38;5;28;01mas\u001b[39;00m \u001b[38;5;21;01mnp\u001b[39;00m\n\u001b[1;32m----> 5\u001b[0m \u001b[38;5;28;01mfrom\u001b[39;00m \u001b[38;5;21;01mprophet\u001b[39;00m \u001b[38;5;28;01mimport\u001b[39;00m Prophet\n\u001b[0;32m      7\u001b[0m df \u001b[38;5;241m=\u001b[39m pd\u001b[38;5;241m.\u001b[39mread_csv(\u001b[38;5;124m'\u001b[39m\u001b[38;5;124m../data/processed/monthly_sales_national.csv\u001b[39m\u001b[38;5;124m'\u001b[39m)\n\u001b[0;32m      9\u001b[0m \u001b[38;5;66;03m# Create Prophet model with floor at 0\u001b[39;00m\n",
      "\u001b[1;31mModuleNotFoundError\u001b[0m: No module named 'prophet'"
     ]
    }
   ],
   "source": [
    "# forecast_national\n",
    "\n",
    "import pandas as pd\n",
    "import numpy as np\n",
    "from prophet import Prophet\n",
    "\n",
    "df = pd.read_csv('../data/processed/monthly_sales_national.csv')\n",
    "\n",
    "# Create Prophet model with floor at 0\n",
    "model = Prophet(growth='linear', \n",
    "               yearly_seasonality=True,\n",
    "               weekly_seasonality=False,\n",
    "               daily_seasonality=False,\n",
    "               seasonality_mode='multiplicative')  # multiplicative seasonality helps prevent negative values\n",
    "\n",
    "model.fit(df)\n",
    "\n",
    "# Create future dataframe (next 6 months)\n",
    "future = model.make_future_dataframe(periods=6, freq='ME')\n",
    "\n",
    "# Forecast\n",
    "forecast = model.predict(future)\n",
    "\n",
    "# Ensure no negative values in forecast\n",
    "forecast['yhat'] = np.maximum(forecast['yhat'], 0)\n",
    "forecast['yhat_lower'] = np.maximum(forecast['yhat_lower'], 0)\n",
    "forecast['yhat_upper'] = np.maximum(forecast['yhat_upper'], 0)\n",
    "\n",
    "# Calculate and print forecast statistics\n",
    "print(\"\\nForecast Statistics:\")\n",
    "print(f\"Minimum predicted value: {forecast['yhat'].min():.2f}\")\n",
    "print(f\"Maximum predicted value: {forecast['yhat'].max():.2f}\")\n",
    "print(f\"Mean predicted value: {forecast['yhat'].mean():.2f}\")\n",
    "\n",
    "forecast.to_csv('../data/forecast/national_forecast.csv', index=False)\n",
    "\n",
    "print(\"\\n✅ National forecast saved.\")"
   ]
  },
  {
   "cell_type": "code",
   "execution_count": null,
   "id": "87fdde83",
   "metadata": {},
   "outputs": [
    {
     "name": "stderr",
     "output_type": "stream",
     "text": [
      "17:02:50 - cmdstanpy - INFO - Chain [1] start processing\n",
      "17:02:50 - cmdstanpy - INFO - Chain [1] done processing\n"
     ]
    },
    {
     "name": "stdout",
     "output_type": "stream",
     "text": [
      "\n",
      "Processing forecast for Central...\n"
     ]
    },
    {
     "name": "stderr",
     "output_type": "stream",
     "text": [
      "17:02:50 - cmdstanpy - INFO - Chain [1] start processing\n"
     ]
    },
    {
     "name": "stdout",
     "output_type": "stream",
     "text": [
      "Forecast Statistics for Central:\n",
      "Minimum predicted value: 0.00\n",
      "Maximum predicted value: 21162.20\n",
      "Mean predicted value: 10487.98\n",
      "✅ Forecast saved for Central\n",
      "\n",
      "Processing forecast for East...\n"
     ]
    },
    {
     "name": "stderr",
     "output_type": "stream",
     "text": [
      "17:02:50 - cmdstanpy - INFO - Chain [1] done processing\n",
      "17:02:50 - cmdstanpy - INFO - Chain [1] start processing\n"
     ]
    },
    {
     "name": "stdout",
     "output_type": "stream",
     "text": [
      "Forecast Statistics for East:\n",
      "Minimum predicted value: 1936.48\n",
      "Maximum predicted value: 39255.25\n",
      "Mean predicted value: 13868.92\n",
      "✅ Forecast saved for East\n",
      "\n",
      "Processing forecast for South...\n"
     ]
    },
    {
     "name": "stderr",
     "output_type": "stream",
     "text": [
      "17:02:50 - cmdstanpy - INFO - Chain [1] done processing\n",
      "17:02:50 - cmdstanpy - INFO - Chain [1] start processing\n"
     ]
    },
    {
     "name": "stdout",
     "output_type": "stream",
     "text": [
      "Forecast Statistics for South:\n",
      "Minimum predicted value: 266.17\n",
      "Maximum predicted value: 19698.68\n",
      "Mean predicted value: 8275.28\n",
      "✅ Forecast saved for South\n",
      "\n",
      "Processing forecast for West...\n"
     ]
    },
    {
     "name": "stderr",
     "output_type": "stream",
     "text": [
      "17:02:50 - cmdstanpy - INFO - Chain [1] done processing\n"
     ]
    },
    {
     "name": "stdout",
     "output_type": "stream",
     "text": [
      "Forecast Statistics for West:\n",
      "Minimum predicted value: 2907.96\n",
      "Maximum predicted value: 35326.63\n",
      "Mean predicted value: 15246.23\n",
      "✅ Forecast saved for West\n",
      "\n",
      "All regional forecasts completed!\n"
     ]
    }
   ],
   "source": [
    "# forecast_regions\n",
    "\n",
    "import numpy as np\n",
    "from prophet import Prophet\n",
    "df = pd.read_csv('../data/processed/monthly_sales_by_region.csv')\n",
    "\n",
    "# Forecast for each region\n",
    "for region in df['Region'].unique():\n",
    "    print(f\"\\nProcessing forecast for {region}...\")\n",
    "    \n",
    "    region_df = df[df['Region'] == region][['ds', 'y']]\n",
    "    \n",
    "    # Create Prophet model with optimized parameters\n",
    "    model = Prophet(growth='linear',\n",
    "                   yearly_seasonality=True,\n",
    "                   weekly_seasonality=False,\n",
    "                   daily_seasonality=False,\n",
    "                   seasonality_mode='multiplicative')  # multiplicative seasonality helps prevent negative values\n",
    "    \n",
    "    model.fit(region_df)\n",
    "\n",
    "    # Forecast next 6 months\n",
    "    future = model.make_future_dataframe(periods=6, freq='ME')\n",
    "    forecast = model.predict(future)\n",
    "    \n",
    "    # Ensure no negative values\n",
    "    forecast['yhat'] = np.maximum(forecast['yhat'], 0)\n",
    "    forecast['yhat_lower'] = np.maximum(forecast['yhat_lower'], 0)\n",
    "    forecast['yhat_upper'] = np.maximum(forecast['yhat_upper'], 0)\n",
    "    \n",
    "    # Print forecast statistics\n",
    "    print(f\"Forecast Statistics for {region}:\")\n",
    "    print(f\"Minimum predicted value: {forecast['yhat'].min():.2f}\")\n",
    "    print(f\"Maximum predicted value: {forecast['yhat'].max():.2f}\")\n",
    "    print(f\"Mean predicted value: {forecast['yhat'].mean():.2f}\")\n",
    "\n",
    "    # Save forecast for the region\n",
    "    forecast[['ds', 'yhat', 'yhat_lower', 'yhat_upper']].to_csv(\n",
    "        f'../data/forecast/regions/{region}_forecast.csv', \n",
    "        index=False\n",
    "    )\n",
    "\n",
    "    print(f\"✅ Forecast saved for {region}\")\n",
    "\n",
    "print(\"\\nAll regional forecasts completed!\")"
   ]
  }
 ],
 "metadata": {
  "kernelspec": {
   "display_name": "base",
   "language": "python",
   "name": "python3"
  },
  "language_info": {
   "codemirror_mode": {
    "name": "ipython",
    "version": 3
   },
   "file_extension": ".py",
   "mimetype": "text/x-python",
   "name": "python",
   "nbconvert_exporter": "python",
   "pygments_lexer": "ipython3",
   "version": "3.12.7"
  }
 },
 "nbformat": 4,
 "nbformat_minor": 5
}
